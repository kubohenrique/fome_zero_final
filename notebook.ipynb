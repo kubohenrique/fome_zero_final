{
 "cells": [
  {
   "cell_type": "markdown",
   "metadata": {},
   "source": [
    "# PROJETO FOME ZERO"
   ]
  },
  {
   "cell_type": "markdown",
   "metadata": {},
   "source": [
    "## 0.0 - IMPORTS"
   ]
  },
  {
   "cell_type": "code",
   "execution_count": 24,
   "metadata": {},
   "outputs": [],
   "source": [
    "import pandas as pd\n",
    "import numpy as np\n",
    "import inflection\n",
    "import plotly_express as px"
   ]
  },
  {
   "cell_type": "markdown",
   "metadata": {},
   "source": [
    "### 0.1 - Variáveis"
   ]
  },
  {
   "cell_type": "code",
   "execution_count": 25,
   "metadata": {},
   "outputs": [],
   "source": [
    "COUNTRIES = {\n",
    "   1: \"India\",\n",
    "   14: \"Australia\",\n",
    "   30: \"Brazil\",\n",
    "   37: \"Canada\",\n",
    "   94: \"Indonesia\",\n",
    "   148: \"New Zeland\",\n",
    "   162: \"Philippines\",\n",
    "   166: \"Qatar\",\n",
    "   184: \"Singapure\",\n",
    "   189: \"South Africa\",\n",
    "   191: \"Sri Lanka\",\n",
    "   208: \"Turkey\",\n",
    "   214: \"United Arab Emirates\",\n",
    "   215: \"England\",\n",
    "   216: \"United States of America\",\n",
    "}\n",
    "# ------------------------------------------------------------------------------------------------------------------------------------------------\n",
    "\n",
    "COLORS = {\n",
    "   \"3F7E00\": \"darkgreen\",\n",
    "   \"5BA829\": \"green\",\n",
    "   \"9ACD32\": \"lightgreen\",\n",
    "   \"CDD614\": \"orange\",\n",
    "   \"FFBA00\": \"red\",\n",
    "   \"CBCBC8\": \"darkred\",\n",
    "   \"FF7800\": \"darkred\",\n",
    "}"
   ]
  },
  {
   "cell_type": "markdown",
   "metadata": {},
   "source": [
    "### 0.2 - Funções"
   ]
  },
  {
   "cell_type": "code",
   "execution_count": 26,
   "metadata": {},
   "outputs": [],
   "source": [
    "def rename_columns(df):\n",
    "    df = df.copy()\n",
    "    title = lambda x: inflection.titleize(x) \n",
    "    snakecase = lambda x: inflection.underscore(x) \n",
    "    spaces = lambda x: x.replace(\" \", \"\")\n",
    "    cols_old = list(df.columns)\n",
    "    cols_old = list(map(title, cols_old))\n",
    "    cols_old = list(map(spaces, cols_old)) \n",
    "    cols_new = list(map(snakecase, cols_old))\n",
    "    df.columns = cols_new\n",
    "    return df\n",
    "# ------------------------------------------------------------------------------------------------------------------------------------------------\n",
    "def country_name(country_id):\n",
    "    return COUNTRIES[country_id]\n",
    "# ------------------------------------------------------------------------------------------------------------------------------------------------\n",
    "def create_price_tye(price_range):\n",
    "    if price_range == 1:\n",
    "        return \"cheap\"\n",
    "    elif price_range == 2: \n",
    "        return \"normal\"\n",
    "    elif price_range == 3: \n",
    "        return \"expensive\"\n",
    "    else:\n",
    "        return \"gourmet\"\n",
    "# ------------------------------------------------------------------------------------------------------------------------------------------------\n",
    "def color_name(color_code): \n",
    "    return COLORS[color_code]\n",
    "# ------------------------------------------------------------------------------------------------------------------------------------------------\n",
    "def adjust_columns_order(dataframe):\n",
    "    df = dataframe.copy()\n",
    "\n",
    "    new_cols_order = [\n",
    "        \"restaurant_id\",\n",
    "        \"restaurant_name\",\n",
    "        \"country\",\n",
    "        \"city\",\n",
    "        \"address\",\n",
    "        \"locality\",\n",
    "        \"locality_verbose\",\n",
    "        \"longitude\",\n",
    "        \"latitude\",\n",
    "        \"cuisines\",\n",
    "        \"price_type\",\n",
    "        \"average_cost_for_two\",\n",
    "        \"currency\",\n",
    "        \"has_table_booking\",\n",
    "        \"has_online_delivery\",\n",
    "        \"is_delivering_now\",\n",
    "        \"aggregate_rating\",\n",
    "        \"rating_color\",\n",
    "        \"color_name\",\n",
    "        \"rating_text\",\n",
    "        \"votes\",\n",
    "    ]\n",
    "\n",
    "    return df.loc[:, new_cols_order]\n",
    "# ------------------------------------------------------------------------------------------------------------------------------------------------\n",
    "def clean_code(df1):\n",
    "    df1 = df1.dropna()\n",
    "    df1[\"country\"] = df1.loc[:, \"country_code\"].apply(lambda x: country_name(x))\n",
    "    df1[\"price_type\"] = df1.loc[:, \"price_range\"].apply(lambda x: create_price_tye(x))\n",
    "    df1[\"color_name\"] = df1.loc[:, \"rating_color\"].apply(lambda x: color_name(x))\n",
    "    df1[\"cuisines\"] = df1.loc[:, \"cuisines\"].apply(lambda x: x.split(\",\")[0])    \n",
    "    return df1"
   ]
  },
  {
   "cell_type": "markdown",
   "metadata": {},
   "source": [
    "### 0.3 - Configurações"
   ]
  },
  {
   "cell_type": "code",
   "execution_count": 27,
   "metadata": {},
   "outputs": [],
   "source": [
    "pd.set_option('display.max_columns', None)\n",
    "pd.set_option('display.max_rows', None)"
   ]
  },
  {
   "cell_type": "markdown",
   "metadata": {},
   "source": [
    "### 0.4 - Carregar Dados"
   ]
  },
  {
   "cell_type": "code",
   "execution_count": 28,
   "metadata": {},
   "outputs": [],
   "source": [
    "df = pd.read_csv('dataset/zomato.csv')"
   ]
  },
  {
   "cell_type": "markdown",
   "metadata": {},
   "source": [
    "## 1.0 - DATA DESCRIPTION"
   ]
  },
  {
   "cell_type": "code",
   "execution_count": 29,
   "metadata": {},
   "outputs": [
    {
     "data": {
      "text/html": [
       "<div>\n",
       "<style scoped>\n",
       "    .dataframe tbody tr th:only-of-type {\n",
       "        vertical-align: middle;\n",
       "    }\n",
       "\n",
       "    .dataframe tbody tr th {\n",
       "        vertical-align: top;\n",
       "    }\n",
       "\n",
       "    .dataframe thead th {\n",
       "        text-align: right;\n",
       "    }\n",
       "</style>\n",
       "<table border=\"1\" class=\"dataframe\">\n",
       "  <thead>\n",
       "    <tr style=\"text-align: right;\">\n",
       "      <th></th>\n",
       "      <th>Restaurant ID</th>\n",
       "      <th>Restaurant Name</th>\n",
       "      <th>Country Code</th>\n",
       "      <th>City</th>\n",
       "      <th>Address</th>\n",
       "      <th>Locality</th>\n",
       "      <th>Locality Verbose</th>\n",
       "      <th>Longitude</th>\n",
       "      <th>Latitude</th>\n",
       "      <th>Cuisines</th>\n",
       "      <th>Average Cost for two</th>\n",
       "      <th>Currency</th>\n",
       "      <th>Has Table booking</th>\n",
       "      <th>Has Online delivery</th>\n",
       "      <th>Is delivering now</th>\n",
       "      <th>Switch to order menu</th>\n",
       "      <th>Price range</th>\n",
       "      <th>Aggregate rating</th>\n",
       "      <th>Rating color</th>\n",
       "      <th>Rating text</th>\n",
       "      <th>Votes</th>\n",
       "    </tr>\n",
       "  </thead>\n",
       "  <tbody>\n",
       "    <tr>\n",
       "      <th>0</th>\n",
       "      <td>6310675</td>\n",
       "      <td>Mama Lou's Italian Kitchen</td>\n",
       "      <td>162</td>\n",
       "      <td>Las Piñas City</td>\n",
       "      <td>Block 1, Lot 36, Tropical Avenue Corner Tropic...</td>\n",
       "      <td>BF International</td>\n",
       "      <td>BF International, Las Piñas City</td>\n",
       "      <td>121.009787</td>\n",
       "      <td>14.447615</td>\n",
       "      <td>Italian</td>\n",
       "      <td>1100</td>\n",
       "      <td>Botswana Pula(P)</td>\n",
       "      <td>1</td>\n",
       "      <td>0</td>\n",
       "      <td>0</td>\n",
       "      <td>0</td>\n",
       "      <td>3</td>\n",
       "      <td>4.6</td>\n",
       "      <td>3F7E00</td>\n",
       "      <td>Excellent</td>\n",
       "      <td>619</td>\n",
       "    </tr>\n",
       "    <tr>\n",
       "      <th>1</th>\n",
       "      <td>6310675</td>\n",
       "      <td>Mama Lou's Italian Kitchen</td>\n",
       "      <td>162</td>\n",
       "      <td>Las Piñas City</td>\n",
       "      <td>Block 1, Lot 36, Tropical Avenue Corner Tropic...</td>\n",
       "      <td>BF International</td>\n",
       "      <td>BF International, Las Piñas City</td>\n",
       "      <td>121.009787</td>\n",
       "      <td>14.447615</td>\n",
       "      <td>Italian</td>\n",
       "      <td>1100</td>\n",
       "      <td>Botswana Pula(P)</td>\n",
       "      <td>1</td>\n",
       "      <td>0</td>\n",
       "      <td>0</td>\n",
       "      <td>0</td>\n",
       "      <td>3</td>\n",
       "      <td>4.6</td>\n",
       "      <td>3F7E00</td>\n",
       "      <td>Excellent</td>\n",
       "      <td>619</td>\n",
       "    </tr>\n",
       "    <tr>\n",
       "      <th>2</th>\n",
       "      <td>6314542</td>\n",
       "      <td>Blackbird</td>\n",
       "      <td>162</td>\n",
       "      <td>Makati City</td>\n",
       "      <td>Nielson Tower, Ayala Triangle Gardens, Salcedo...</td>\n",
       "      <td>Ayala Triangle Gardens, Salcedo Village, Makat...</td>\n",
       "      <td>Ayala Triangle Gardens, Salcedo Village, Makat...</td>\n",
       "      <td>121.024562</td>\n",
       "      <td>14.556042</td>\n",
       "      <td>European, Asian</td>\n",
       "      <td>3100</td>\n",
       "      <td>Botswana Pula(P)</td>\n",
       "      <td>0</td>\n",
       "      <td>0</td>\n",
       "      <td>0</td>\n",
       "      <td>0</td>\n",
       "      <td>4</td>\n",
       "      <td>4.7</td>\n",
       "      <td>3F7E00</td>\n",
       "      <td>Excellent</td>\n",
       "      <td>469</td>\n",
       "    </tr>\n",
       "    <tr>\n",
       "      <th>3</th>\n",
       "      <td>6301293</td>\n",
       "      <td>Banapple</td>\n",
       "      <td>162</td>\n",
       "      <td>Makati City</td>\n",
       "      <td>Ayala Triangle Gardens, Salcedo Village, Makat...</td>\n",
       "      <td>Ayala Triangle Gardens, Salcedo Village, Makat...</td>\n",
       "      <td>Ayala Triangle Gardens, Salcedo Village, Makat...</td>\n",
       "      <td>121.023171</td>\n",
       "      <td>14.556196</td>\n",
       "      <td>Filipino, American, Italian, Bakery</td>\n",
       "      <td>800</td>\n",
       "      <td>Botswana Pula(P)</td>\n",
       "      <td>0</td>\n",
       "      <td>0</td>\n",
       "      <td>0</td>\n",
       "      <td>0</td>\n",
       "      <td>3</td>\n",
       "      <td>4.4</td>\n",
       "      <td>5BA829</td>\n",
       "      <td>Very Good</td>\n",
       "      <td>867</td>\n",
       "    </tr>\n",
       "    <tr>\n",
       "      <th>4</th>\n",
       "      <td>6315689</td>\n",
       "      <td>Bad Bird</td>\n",
       "      <td>162</td>\n",
       "      <td>Makati City</td>\n",
       "      <td>Hole In The Wall, Floor 4, Century City Mall, ...</td>\n",
       "      <td>Century City Mall, Poblacion, Makati City</td>\n",
       "      <td>Century City Mall, Poblacion, Makati City, Mak...</td>\n",
       "      <td>121.027708</td>\n",
       "      <td>14.565899</td>\n",
       "      <td>American</td>\n",
       "      <td>700</td>\n",
       "      <td>Botswana Pula(P)</td>\n",
       "      <td>0</td>\n",
       "      <td>0</td>\n",
       "      <td>0</td>\n",
       "      <td>0</td>\n",
       "      <td>3</td>\n",
       "      <td>4.4</td>\n",
       "      <td>5BA829</td>\n",
       "      <td>Very Good</td>\n",
       "      <td>858</td>\n",
       "    </tr>\n",
       "  </tbody>\n",
       "</table>\n",
       "</div>"
      ],
      "text/plain": [
       "   Restaurant ID             Restaurant Name  Country Code            City  \\\n",
       "0        6310675  Mama Lou's Italian Kitchen           162  Las Piñas City   \n",
       "1        6310675  Mama Lou's Italian Kitchen           162  Las Piñas City   \n",
       "2        6314542                   Blackbird           162     Makati City   \n",
       "3        6301293                    Banapple           162     Makati City   \n",
       "4        6315689                    Bad Bird           162     Makati City   \n",
       "\n",
       "                                             Address  \\\n",
       "0  Block 1, Lot 36, Tropical Avenue Corner Tropic...   \n",
       "1  Block 1, Lot 36, Tropical Avenue Corner Tropic...   \n",
       "2  Nielson Tower, Ayala Triangle Gardens, Salcedo...   \n",
       "3  Ayala Triangle Gardens, Salcedo Village, Makat...   \n",
       "4  Hole In The Wall, Floor 4, Century City Mall, ...   \n",
       "\n",
       "                                            Locality  \\\n",
       "0                                   BF International   \n",
       "1                                   BF International   \n",
       "2  Ayala Triangle Gardens, Salcedo Village, Makat...   \n",
       "3  Ayala Triangle Gardens, Salcedo Village, Makat...   \n",
       "4          Century City Mall, Poblacion, Makati City   \n",
       "\n",
       "                                    Locality Verbose   Longitude   Latitude  \\\n",
       "0                   BF International, Las Piñas City  121.009787  14.447615   \n",
       "1                   BF International, Las Piñas City  121.009787  14.447615   \n",
       "2  Ayala Triangle Gardens, Salcedo Village, Makat...  121.024562  14.556042   \n",
       "3  Ayala Triangle Gardens, Salcedo Village, Makat...  121.023171  14.556196   \n",
       "4  Century City Mall, Poblacion, Makati City, Mak...  121.027708  14.565899   \n",
       "\n",
       "                              Cuisines  Average Cost for two  \\\n",
       "0                              Italian                  1100   \n",
       "1                              Italian                  1100   \n",
       "2                      European, Asian                  3100   \n",
       "3  Filipino, American, Italian, Bakery                   800   \n",
       "4                             American                   700   \n",
       "\n",
       "           Currency  Has Table booking  Has Online delivery  \\\n",
       "0  Botswana Pula(P)                  1                    0   \n",
       "1  Botswana Pula(P)                  1                    0   \n",
       "2  Botswana Pula(P)                  0                    0   \n",
       "3  Botswana Pula(P)                  0                    0   \n",
       "4  Botswana Pula(P)                  0                    0   \n",
       "\n",
       "   Is delivering now  Switch to order menu  Price range  Aggregate rating  \\\n",
       "0                  0                     0            3               4.6   \n",
       "1                  0                     0            3               4.6   \n",
       "2                  0                     0            4               4.7   \n",
       "3                  0                     0            3               4.4   \n",
       "4                  0                     0            3               4.4   \n",
       "\n",
       "  Rating color Rating text  Votes  \n",
       "0       3F7E00   Excellent    619  \n",
       "1       3F7E00   Excellent    619  \n",
       "2       3F7E00   Excellent    469  \n",
       "3       5BA829   Very Good    867  \n",
       "4       5BA829   Very Good    858  "
      ]
     },
     "execution_count": 29,
     "metadata": {},
     "output_type": "execute_result"
    }
   ],
   "source": [
    "df1 = df.copy()\n",
    "df.head()"
   ]
  },
  {
   "cell_type": "markdown",
   "metadata": {},
   "source": [
    "### 1.1 - Descrição das Colunas"
   ]
  },
  {
   "cell_type": "code",
   "execution_count": 30,
   "metadata": {},
   "outputs": [
    {
     "data": {
      "text/html": [
       "<div>\n",
       "<style scoped>\n",
       "    .dataframe tbody tr th:only-of-type {\n",
       "        vertical-align: middle;\n",
       "    }\n",
       "\n",
       "    .dataframe tbody tr th {\n",
       "        vertical-align: top;\n",
       "    }\n",
       "\n",
       "    .dataframe thead th {\n",
       "        text-align: right;\n",
       "    }\n",
       "</style>\n",
       "<table border=\"1\" class=\"dataframe\">\n",
       "  <thead>\n",
       "    <tr style=\"text-align: right;\">\n",
       "      <th></th>\n",
       "      <th>Column</th>\n",
       "      <th>Descrição</th>\n",
       "    </tr>\n",
       "  </thead>\n",
       "  <tbody>\n",
       "    <tr>\n",
       "      <th>0</th>\n",
       "      <td>restaurant</td>\n",
       "      <td>ID do restaurante</td>\n",
       "    </tr>\n",
       "    <tr>\n",
       "      <th>1</th>\n",
       "      <td>restaurant_name</td>\n",
       "      <td>Nome do restaurante</td>\n",
       "    </tr>\n",
       "    <tr>\n",
       "      <th>2</th>\n",
       "      <td>country_code</td>\n",
       "      <td>Código do País</td>\n",
       "    </tr>\n",
       "    <tr>\n",
       "      <th>3</th>\n",
       "      <td>city</td>\n",
       "      <td>Nome da Cidade onde o restaurante está</td>\n",
       "    </tr>\n",
       "    <tr>\n",
       "      <th>4</th>\n",
       "      <td>address</td>\n",
       "      <td>Endereço do restaurante</td>\n",
       "    </tr>\n",
       "    <tr>\n",
       "      <th>5</th>\n",
       "      <td>locality</td>\n",
       "      <td>Localização e pontos de referência do restaurante</td>\n",
       "    </tr>\n",
       "    <tr>\n",
       "      <th>6</th>\n",
       "      <td>locality_verbose</td>\n",
       "      <td>Localização e pontos de referência do restaura...</td>\n",
       "    </tr>\n",
       "    <tr>\n",
       "      <th>7</th>\n",
       "      <td>longitude</td>\n",
       "      <td>Ponto geográfico de Longitude do Restaurante</td>\n",
       "    </tr>\n",
       "    <tr>\n",
       "      <th>8</th>\n",
       "      <td>latitude</td>\n",
       "      <td>Ponto geográfico de Latitude do Restaurante</td>\n",
       "    </tr>\n",
       "    <tr>\n",
       "      <th>9</th>\n",
       "      <td>cuisines</td>\n",
       "      <td>Tipos de Culinária servidos no restaurante</td>\n",
       "    </tr>\n",
       "    <tr>\n",
       "      <th>10</th>\n",
       "      <td>average_cost_for_two</td>\n",
       "      <td>Preço Médio de um prato para duas pessoas no r...</td>\n",
       "    </tr>\n",
       "    <tr>\n",
       "      <th>11</th>\n",
       "      <td>currency</td>\n",
       "      <td>Moeda do país</td>\n",
       "    </tr>\n",
       "    <tr>\n",
       "      <th>12</th>\n",
       "      <td>has_table_booking</td>\n",
       "      <td>Se o restaurante possui serviços de reserva; 1...</td>\n",
       "    </tr>\n",
       "    <tr>\n",
       "      <th>13</th>\n",
       "      <td>has_online_delivery</td>\n",
       "      <td>Se o restaurante possui serviços de pedido on-...</td>\n",
       "    </tr>\n",
       "    <tr>\n",
       "      <th>14</th>\n",
       "      <td>is_delivering_now</td>\n",
       "      <td>Se o restaurante faz entregas; 1 - Sim; 0 - Não</td>\n",
       "    </tr>\n",
       "    <tr>\n",
       "      <th>15</th>\n",
       "      <td>switch_to_order_menu</td>\n",
       "      <td>-</td>\n",
       "    </tr>\n",
       "    <tr>\n",
       "      <th>16</th>\n",
       "      <td>price_range</td>\n",
       "      <td>Variação de preços do restaurante; 1 a 4 - Qua...</td>\n",
       "    </tr>\n",
       "    <tr>\n",
       "      <th>17</th>\n",
       "      <td>aggregate_rating</td>\n",
       "      <td>Nota média do restaurante</td>\n",
       "    </tr>\n",
       "    <tr>\n",
       "      <th>18</th>\n",
       "      <td>rating_color</td>\n",
       "      <td>Código Hexadecimal da cor do restaurante com b...</td>\n",
       "    </tr>\n",
       "    <tr>\n",
       "      <th>19</th>\n",
       "      <td>rating_text</td>\n",
       "      <td>Categoria em que o restaurante está com base e...</td>\n",
       "    </tr>\n",
       "    <tr>\n",
       "      <th>20</th>\n",
       "      <td>votes</td>\n",
       "      <td>Quantidade de avaliações que o restaurante já ...</td>\n",
       "    </tr>\n",
       "  </tbody>\n",
       "</table>\n",
       "</div>"
      ],
      "text/plain": [
       "                  Column                                          Descrição\n",
       "0             restaurant                                  ID do restaurante\n",
       "1        restaurant_name                                Nome do restaurante\n",
       "2           country_code                                     Código do País\n",
       "3                   city             Nome da Cidade onde o restaurante está\n",
       "4                address                            Endereço do restaurante\n",
       "5               locality  Localização e pontos de referência do restaurante\n",
       "6       locality_verbose  Localização e pontos de referência do restaura...\n",
       "7              longitude       Ponto geográfico de Longitude do Restaurante\n",
       "8               latitude        Ponto geográfico de Latitude do Restaurante\n",
       "9               cuisines         Tipos de Culinária servidos no restaurante\n",
       "10  average_cost_for_two  Preço Médio de um prato para duas pessoas no r...\n",
       "11              currency                                      Moeda do país\n",
       "12     has_table_booking  Se o restaurante possui serviços de reserva; 1...\n",
       "13   has_online_delivery  Se o restaurante possui serviços de pedido on-...\n",
       "14     is_delivering_now    Se o restaurante faz entregas; 1 - Sim; 0 - Não\n",
       "15  switch_to_order_menu                                                  -\n",
       "16           price_range  Variação de preços do restaurante; 1 a 4 - Qua...\n",
       "17      aggregate_rating                          Nota média do restaurante\n",
       "18          rating_color  Código Hexadecimal da cor do restaurante com b...\n",
       "19           rating_text  Categoria em que o restaurante está com base e...\n",
       "20                 votes  Quantidade de avaliações que o restaurante já ..."
      ]
     },
     "execution_count": 30,
     "metadata": {},
     "output_type": "execute_result"
    }
   ],
   "source": [
    "data = {\n",
    "    'Column': ['restaurant', 'restaurant_name', 'country_code', 'city', 'address',\n",
    "               'locality', 'locality_verbose', 'longitude', 'latitude', 'cuisines',\n",
    "               'average_cost_for_two', 'currency', 'has_table_booking',\n",
    "               'has_online_delivery', 'is_delivering_now', 'switch_to_order_menu',\n",
    "               'price_range', 'aggregate_rating', 'rating_color', 'rating_text',\n",
    "               'votes'],\n",
    "    'Descrição': ['ID do restaurante', 'Nome do restaurante', 'Código do País', 'Nome da Cidade onde o restaurante está',\n",
    "                 'Endereço do restaurante', 'Localização e pontos de referência do restaurante', 'Localização e pontos de referência do restaurante (Mais informações)',\n",
    "                 'Ponto geográfico de Longitude do Restaurante', 'Ponto geográfico de Latitude do Restaurante', 'Tipos de Culinária servidos no restaurante', \n",
    "                 'Preço Médio de um prato para duas pessoas no restaurante', 'Moeda do país', 'Se o restaurante possui serviços de reserva; 1 - Sim; 0 - Não',\n",
    "                 'Se o restaurante possui serviços de pedido on-line; 1 - Sim; 0 - Não', 'Se o restaurante faz entregas; 1 - Sim; 0 - Não', '-',\n",
    "                 'Variação de preços do restaurante; 1 a 4 - Quanto maior o valor, mais caro serão os pratos', 'Nota média do restaurante', 'Código Hexadecimal da cor do restaurante com base em sua nota média',\n",
    "                 'Categoria em que o restaurante está com base em sua nota média', 'Quantidade de avaliações que o restaurante já recebeu']\n",
    "}\n",
    "\n",
    "# Criar DataFrame\n",
    "descricao = pd.DataFrame(data)\n",
    "descricao"
   ]
  },
  {
   "cell_type": "markdown",
   "metadata": {},
   "source": [
    "### 1.2 - Renomeando as Colunas"
   ]
  },
  {
   "cell_type": "code",
   "execution_count": 31,
   "metadata": {},
   "outputs": [
    {
     "data": {
      "text/html": [
       "<div>\n",
       "<style scoped>\n",
       "    .dataframe tbody tr th:only-of-type {\n",
       "        vertical-align: middle;\n",
       "    }\n",
       "\n",
       "    .dataframe tbody tr th {\n",
       "        vertical-align: top;\n",
       "    }\n",
       "\n",
       "    .dataframe thead th {\n",
       "        text-align: right;\n",
       "    }\n",
       "</style>\n",
       "<table border=\"1\" class=\"dataframe\">\n",
       "  <thead>\n",
       "    <tr style=\"text-align: right;\">\n",
       "      <th></th>\n",
       "      <th>restaurant_id</th>\n",
       "      <th>restaurant_name</th>\n",
       "      <th>country_code</th>\n",
       "      <th>city</th>\n",
       "      <th>address</th>\n",
       "      <th>locality</th>\n",
       "      <th>locality_verbose</th>\n",
       "      <th>longitude</th>\n",
       "      <th>latitude</th>\n",
       "      <th>cuisines</th>\n",
       "      <th>average_cost_for_two</th>\n",
       "      <th>currency</th>\n",
       "      <th>has_table_booking</th>\n",
       "      <th>has_online_delivery</th>\n",
       "      <th>is_delivering_now</th>\n",
       "      <th>switch_to_order_menu</th>\n",
       "      <th>price_range</th>\n",
       "      <th>aggregate_rating</th>\n",
       "      <th>rating_color</th>\n",
       "      <th>rating_text</th>\n",
       "      <th>votes</th>\n",
       "    </tr>\n",
       "  </thead>\n",
       "  <tbody>\n",
       "    <tr>\n",
       "      <th>0</th>\n",
       "      <td>6310675</td>\n",
       "      <td>Mama Lou's Italian Kitchen</td>\n",
       "      <td>162</td>\n",
       "      <td>Las Piñas City</td>\n",
       "      <td>Block 1, Lot 36, Tropical Avenue Corner Tropic...</td>\n",
       "      <td>BF International</td>\n",
       "      <td>BF International, Las Piñas City</td>\n",
       "      <td>121.009787</td>\n",
       "      <td>14.447615</td>\n",
       "      <td>Italian</td>\n",
       "      <td>1100</td>\n",
       "      <td>Botswana Pula(P)</td>\n",
       "      <td>1</td>\n",
       "      <td>0</td>\n",
       "      <td>0</td>\n",
       "      <td>0</td>\n",
       "      <td>3</td>\n",
       "      <td>4.6</td>\n",
       "      <td>3F7E00</td>\n",
       "      <td>Excellent</td>\n",
       "      <td>619</td>\n",
       "    </tr>\n",
       "    <tr>\n",
       "      <th>1</th>\n",
       "      <td>6310675</td>\n",
       "      <td>Mama Lou's Italian Kitchen</td>\n",
       "      <td>162</td>\n",
       "      <td>Las Piñas City</td>\n",
       "      <td>Block 1, Lot 36, Tropical Avenue Corner Tropic...</td>\n",
       "      <td>BF International</td>\n",
       "      <td>BF International, Las Piñas City</td>\n",
       "      <td>121.009787</td>\n",
       "      <td>14.447615</td>\n",
       "      <td>Italian</td>\n",
       "      <td>1100</td>\n",
       "      <td>Botswana Pula(P)</td>\n",
       "      <td>1</td>\n",
       "      <td>0</td>\n",
       "      <td>0</td>\n",
       "      <td>0</td>\n",
       "      <td>3</td>\n",
       "      <td>4.6</td>\n",
       "      <td>3F7E00</td>\n",
       "      <td>Excellent</td>\n",
       "      <td>619</td>\n",
       "    </tr>\n",
       "    <tr>\n",
       "      <th>2</th>\n",
       "      <td>6314542</td>\n",
       "      <td>Blackbird</td>\n",
       "      <td>162</td>\n",
       "      <td>Makati City</td>\n",
       "      <td>Nielson Tower, Ayala Triangle Gardens, Salcedo...</td>\n",
       "      <td>Ayala Triangle Gardens, Salcedo Village, Makat...</td>\n",
       "      <td>Ayala Triangle Gardens, Salcedo Village, Makat...</td>\n",
       "      <td>121.024562</td>\n",
       "      <td>14.556042</td>\n",
       "      <td>European, Asian</td>\n",
       "      <td>3100</td>\n",
       "      <td>Botswana Pula(P)</td>\n",
       "      <td>0</td>\n",
       "      <td>0</td>\n",
       "      <td>0</td>\n",
       "      <td>0</td>\n",
       "      <td>4</td>\n",
       "      <td>4.7</td>\n",
       "      <td>3F7E00</td>\n",
       "      <td>Excellent</td>\n",
       "      <td>469</td>\n",
       "    </tr>\n",
       "    <tr>\n",
       "      <th>3</th>\n",
       "      <td>6301293</td>\n",
       "      <td>Banapple</td>\n",
       "      <td>162</td>\n",
       "      <td>Makati City</td>\n",
       "      <td>Ayala Triangle Gardens, Salcedo Village, Makat...</td>\n",
       "      <td>Ayala Triangle Gardens, Salcedo Village, Makat...</td>\n",
       "      <td>Ayala Triangle Gardens, Salcedo Village, Makat...</td>\n",
       "      <td>121.023171</td>\n",
       "      <td>14.556196</td>\n",
       "      <td>Filipino, American, Italian, Bakery</td>\n",
       "      <td>800</td>\n",
       "      <td>Botswana Pula(P)</td>\n",
       "      <td>0</td>\n",
       "      <td>0</td>\n",
       "      <td>0</td>\n",
       "      <td>0</td>\n",
       "      <td>3</td>\n",
       "      <td>4.4</td>\n",
       "      <td>5BA829</td>\n",
       "      <td>Very Good</td>\n",
       "      <td>867</td>\n",
       "    </tr>\n",
       "    <tr>\n",
       "      <th>4</th>\n",
       "      <td>6315689</td>\n",
       "      <td>Bad Bird</td>\n",
       "      <td>162</td>\n",
       "      <td>Makati City</td>\n",
       "      <td>Hole In The Wall, Floor 4, Century City Mall, ...</td>\n",
       "      <td>Century City Mall, Poblacion, Makati City</td>\n",
       "      <td>Century City Mall, Poblacion, Makati City, Mak...</td>\n",
       "      <td>121.027708</td>\n",
       "      <td>14.565899</td>\n",
       "      <td>American</td>\n",
       "      <td>700</td>\n",
       "      <td>Botswana Pula(P)</td>\n",
       "      <td>0</td>\n",
       "      <td>0</td>\n",
       "      <td>0</td>\n",
       "      <td>0</td>\n",
       "      <td>3</td>\n",
       "      <td>4.4</td>\n",
       "      <td>5BA829</td>\n",
       "      <td>Very Good</td>\n",
       "      <td>858</td>\n",
       "    </tr>\n",
       "  </tbody>\n",
       "</table>\n",
       "</div>"
      ],
      "text/plain": [
       "   restaurant_id             restaurant_name  country_code            city  \\\n",
       "0        6310675  Mama Lou's Italian Kitchen           162  Las Piñas City   \n",
       "1        6310675  Mama Lou's Italian Kitchen           162  Las Piñas City   \n",
       "2        6314542                   Blackbird           162     Makati City   \n",
       "3        6301293                    Banapple           162     Makati City   \n",
       "4        6315689                    Bad Bird           162     Makati City   \n",
       "\n",
       "                                             address  \\\n",
       "0  Block 1, Lot 36, Tropical Avenue Corner Tropic...   \n",
       "1  Block 1, Lot 36, Tropical Avenue Corner Tropic...   \n",
       "2  Nielson Tower, Ayala Triangle Gardens, Salcedo...   \n",
       "3  Ayala Triangle Gardens, Salcedo Village, Makat...   \n",
       "4  Hole In The Wall, Floor 4, Century City Mall, ...   \n",
       "\n",
       "                                            locality  \\\n",
       "0                                   BF International   \n",
       "1                                   BF International   \n",
       "2  Ayala Triangle Gardens, Salcedo Village, Makat...   \n",
       "3  Ayala Triangle Gardens, Salcedo Village, Makat...   \n",
       "4          Century City Mall, Poblacion, Makati City   \n",
       "\n",
       "                                    locality_verbose   longitude   latitude  \\\n",
       "0                   BF International, Las Piñas City  121.009787  14.447615   \n",
       "1                   BF International, Las Piñas City  121.009787  14.447615   \n",
       "2  Ayala Triangle Gardens, Salcedo Village, Makat...  121.024562  14.556042   \n",
       "3  Ayala Triangle Gardens, Salcedo Village, Makat...  121.023171  14.556196   \n",
       "4  Century City Mall, Poblacion, Makati City, Mak...  121.027708  14.565899   \n",
       "\n",
       "                              cuisines  average_cost_for_two  \\\n",
       "0                              Italian                  1100   \n",
       "1                              Italian                  1100   \n",
       "2                      European, Asian                  3100   \n",
       "3  Filipino, American, Italian, Bakery                   800   \n",
       "4                             American                   700   \n",
       "\n",
       "           currency  has_table_booking  has_online_delivery  \\\n",
       "0  Botswana Pula(P)                  1                    0   \n",
       "1  Botswana Pula(P)                  1                    0   \n",
       "2  Botswana Pula(P)                  0                    0   \n",
       "3  Botswana Pula(P)                  0                    0   \n",
       "4  Botswana Pula(P)                  0                    0   \n",
       "\n",
       "   is_delivering_now  switch_to_order_menu  price_range  aggregate_rating  \\\n",
       "0                  0                     0            3               4.6   \n",
       "1                  0                     0            3               4.6   \n",
       "2                  0                     0            4               4.7   \n",
       "3                  0                     0            3               4.4   \n",
       "4                  0                     0            3               4.4   \n",
       "\n",
       "  rating_color rating_text  votes  \n",
       "0       3F7E00   Excellent    619  \n",
       "1       3F7E00   Excellent    619  \n",
       "2       3F7E00   Excellent    469  \n",
       "3       5BA829   Very Good    867  \n",
       "4       5BA829   Very Good    858  "
      ]
     },
     "execution_count": 31,
     "metadata": {},
     "output_type": "execute_result"
    }
   ],
   "source": [
    "df1 = rename_columns(df1)\n",
    "df1.head()"
   ]
  },
  {
   "cell_type": "markdown",
   "metadata": {},
   "source": [
    "### 1.3 - Dimensão dos Dados"
   ]
  },
  {
   "cell_type": "code",
   "execution_count": 32,
   "metadata": {},
   "outputs": [
    {
     "name": "stdout",
     "output_type": "stream",
     "text": [
      "Número de linhas : 7527\n",
      "Número de colunas : 21\n"
     ]
    }
   ],
   "source": [
    "print(f'Número de linhas : {df1.shape[0]}')\n",
    "print(f'Número de colunas : {df1.shape[1]}')"
   ]
  },
  {
   "cell_type": "markdown",
   "metadata": {},
   "source": [
    "### 1.4 - Tipos de Dados"
   ]
  },
  {
   "cell_type": "code",
   "execution_count": 33,
   "metadata": {},
   "outputs": [
    {
     "data": {
      "text/plain": [
       "restaurant_id             int64\n",
       "restaurant_name          object\n",
       "country_code              int64\n",
       "city                     object\n",
       "address                  object\n",
       "locality                 object\n",
       "locality_verbose         object\n",
       "longitude               float64\n",
       "latitude                float64\n",
       "cuisines                 object\n",
       "average_cost_for_two      int64\n",
       "currency                 object\n",
       "has_table_booking         int64\n",
       "has_online_delivery       int64\n",
       "is_delivering_now         int64\n",
       "switch_to_order_menu      int64\n",
       "price_range               int64\n",
       "aggregate_rating        float64\n",
       "rating_color             object\n",
       "rating_text              object\n",
       "votes                     int64\n",
       "dtype: object"
      ]
     },
     "execution_count": 33,
     "metadata": {},
     "output_type": "execute_result"
    }
   ],
   "source": [
    "df1.dtypes"
   ]
  },
  {
   "cell_type": "markdown",
   "metadata": {},
   "source": [
    "### 1.5 - Verificando NA"
   ]
  },
  {
   "cell_type": "code",
   "execution_count": 34,
   "metadata": {},
   "outputs": [
    {
     "data": {
      "text/plain": [
       "restaurant_id            0\n",
       "restaurant_name          0\n",
       "country_code             0\n",
       "city                     0\n",
       "address                  0\n",
       "locality                 0\n",
       "locality_verbose         0\n",
       "longitude                0\n",
       "latitude                 0\n",
       "cuisines                15\n",
       "average_cost_for_two     0\n",
       "currency                 0\n",
       "has_table_booking        0\n",
       "has_online_delivery      0\n",
       "is_delivering_now        0\n",
       "switch_to_order_menu     0\n",
       "price_range              0\n",
       "aggregate_rating         0\n",
       "rating_color             0\n",
       "rating_text              0\n",
       "votes                    0\n",
       "dtype: int64"
      ]
     },
     "execution_count": 34,
     "metadata": {},
     "output_type": "execute_result"
    }
   ],
   "source": [
    "df1.isna().sum()"
   ]
  },
  {
   "cell_type": "markdown",
   "metadata": {},
   "source": [
    "### 1.6 - Tratando NA"
   ]
  },
  {
   "cell_type": "code",
   "execution_count": 35,
   "metadata": {},
   "outputs": [
    {
     "data": {
      "text/plain": [
       "restaurant_id            0\n",
       "restaurant_name          0\n",
       "country_code             0\n",
       "city                     0\n",
       "address                  0\n",
       "locality                 0\n",
       "locality_verbose         0\n",
       "longitude                0\n",
       "latitude                 0\n",
       "cuisines                15\n",
       "average_cost_for_two     0\n",
       "currency                 0\n",
       "has_table_booking        0\n",
       "has_online_delivery      0\n",
       "is_delivering_now        0\n",
       "switch_to_order_menu     0\n",
       "price_range              0\n",
       "aggregate_rating         0\n",
       "rating_color             0\n",
       "rating_text              0\n",
       "votes                    0\n",
       "dtype: int64"
      ]
     },
     "execution_count": 35,
     "metadata": {},
     "output_type": "execute_result"
    }
   ],
   "source": [
    "#df1 = df1.dropna()\n",
    "df1.isna().sum()"
   ]
  },
  {
   "cell_type": "markdown",
   "metadata": {},
   "source": [
    "### 1.7 - Mudar os tipos de dados"
   ]
  },
  {
   "cell_type": "markdown",
   "metadata": {},
   "source": [
    "Sem necessidade de mudar"
   ]
  },
  {
   "cell_type": "markdown",
   "metadata": {},
   "source": [
    "### 1.8 - Limpeza e Organização dos Dados"
   ]
  },
  {
   "cell_type": "code",
   "execution_count": 36,
   "metadata": {},
   "outputs": [
    {
     "name": "stderr",
     "output_type": "stream",
     "text": [
      "/var/folders/c4/75scc7l95tb5q89bl9q_4kkr0000gn/T/ipykernel_16879/2896487373.py:60: SettingWithCopyWarning: \n",
      "A value is trying to be set on a copy of a slice from a DataFrame.\n",
      "Try using .loc[row_indexer,col_indexer] = value instead\n",
      "\n",
      "See the caveats in the documentation: https://pandas.pydata.org/pandas-docs/stable/user_guide/indexing.html#returning-a-view-versus-a-copy\n",
      "  df1[\"country\"] = df1.loc[:, \"country_code\"].apply(lambda x: country_name(x))\n",
      "/var/folders/c4/75scc7l95tb5q89bl9q_4kkr0000gn/T/ipykernel_16879/2896487373.py:61: SettingWithCopyWarning: \n",
      "A value is trying to be set on a copy of a slice from a DataFrame.\n",
      "Try using .loc[row_indexer,col_indexer] = value instead\n",
      "\n",
      "See the caveats in the documentation: https://pandas.pydata.org/pandas-docs/stable/user_guide/indexing.html#returning-a-view-versus-a-copy\n",
      "  df1[\"price_type\"] = df1.loc[:, \"price_range\"].apply(lambda x: create_price_tye(x))\n",
      "/var/folders/c4/75scc7l95tb5q89bl9q_4kkr0000gn/T/ipykernel_16879/2896487373.py:62: SettingWithCopyWarning: \n",
      "A value is trying to be set on a copy of a slice from a DataFrame.\n",
      "Try using .loc[row_indexer,col_indexer] = value instead\n",
      "\n",
      "See the caveats in the documentation: https://pandas.pydata.org/pandas-docs/stable/user_guide/indexing.html#returning-a-view-versus-a-copy\n",
      "  df1[\"color_name\"] = df1.loc[:, \"rating_color\"].apply(lambda x: color_name(x))\n",
      "/var/folders/c4/75scc7l95tb5q89bl9q_4kkr0000gn/T/ipykernel_16879/2896487373.py:63: SettingWithCopyWarning: \n",
      "A value is trying to be set on a copy of a slice from a DataFrame.\n",
      "Try using .loc[row_indexer,col_indexer] = value instead\n",
      "\n",
      "See the caveats in the documentation: https://pandas.pydata.org/pandas-docs/stable/user_guide/indexing.html#returning-a-view-versus-a-copy\n",
      "  df1[\"cuisines\"] = df1.loc[:, \"cuisines\"].apply(lambda x: x.split(\",\")[0])\n"
     ]
    }
   ],
   "source": [
    "\n",
    "df1 = clean_code(df1)\n",
    "df1 = adjust_columns_order(df1)"
   ]
  },
  {
   "cell_type": "code",
   "execution_count": 37,
   "metadata": {},
   "outputs": [
    {
     "data": {
      "text/plain": [
       "array(['Philippines', 'Brazil', 'Australia', 'United States of America',\n",
       "       'Canada', 'Singapure', 'United Arab Emirates', 'India',\n",
       "       'Indonesia', 'New Zeland', 'England', 'Qatar', 'South Africa',\n",
       "       'Sri Lanka', 'Turkey'], dtype=object)"
      ]
     },
     "execution_count": 37,
     "metadata": {},
     "output_type": "execute_result"
    }
   ],
   "source": [
    "df1['country'].unique()"
   ]
  },
  {
   "cell_type": "markdown",
   "metadata": {},
   "source": [
    "## 2.0 - ANSWERS"
   ]
  },
  {
   "cell_type": "code",
   "execution_count": 38,
   "metadata": {},
   "outputs": [],
   "source": [
    "df2 = df1.copy()"
   ]
  },
  {
   "cell_type": "markdown",
   "metadata": {},
   "source": [
    " ### GERAL"
   ]
  },
  {
   "cell_type": "markdown",
   "metadata": {},
   "source": [
    "#### 1. Quantos restaurantes únicos estão registrados?"
   ]
  },
  {
   "cell_type": "code",
   "execution_count": 39,
   "metadata": {},
   "outputs": [
    {
     "data": {
      "text/plain": [
       "6929"
      ]
     },
     "execution_count": 39,
     "metadata": {},
     "output_type": "execute_result"
    }
   ],
   "source": [
    "df2['restaurant_id'].nunique()"
   ]
  },
  {
   "cell_type": "markdown",
   "metadata": {},
   "source": [
    "#### 2. Quantos países únicos estão registrados?"
   ]
  },
  {
   "cell_type": "code",
   "execution_count": 40,
   "metadata": {},
   "outputs": [
    {
     "data": {
      "text/plain": [
       "15"
      ]
     },
     "execution_count": 40,
     "metadata": {},
     "output_type": "execute_result"
    }
   ],
   "source": [
    "df2.loc[:,'country'].nunique()"
   ]
  },
  {
   "cell_type": "markdown",
   "metadata": {},
   "source": [
    "#### 3. Quantas cidades únicas estão registradas?"
   ]
  },
  {
   "cell_type": "code",
   "execution_count": 41,
   "metadata": {},
   "outputs": [
    {
     "data": {
      "text/plain": [
       "125"
      ]
     },
     "execution_count": 41,
     "metadata": {},
     "output_type": "execute_result"
    }
   ],
   "source": [
    "df2.loc[:,'city'].nunique()"
   ]
  },
  {
   "cell_type": "markdown",
   "metadata": {},
   "source": [
    "#### 4. Qual o total de avaliações feitas?"
   ]
  },
  {
   "cell_type": "code",
   "execution_count": 42,
   "metadata": {},
   "outputs": [
    {
     "data": {
      "text/plain": [
       "4638535"
      ]
     },
     "execution_count": 42,
     "metadata": {},
     "output_type": "execute_result"
    }
   ],
   "source": [
    "df2.loc[:,'votes'].sum()"
   ]
  },
  {
   "cell_type": "markdown",
   "metadata": {},
   "source": [
    "#### 5. Qual o total de tipos de culinária registrados?"
   ]
  },
  {
   "cell_type": "code",
   "execution_count": 43,
   "metadata": {},
   "outputs": [
    {
     "data": {
      "text/plain": [
       "165"
      ]
     },
     "execution_count": 43,
     "metadata": {},
     "output_type": "execute_result"
    }
   ],
   "source": [
    "df2.loc[:,'cuisines'].nunique()"
   ]
  },
  {
   "cell_type": "markdown",
   "metadata": {},
   "source": [
    "### PAÍS"
   ]
  },
  {
   "cell_type": "markdown",
   "metadata": {},
   "source": [
    "#### 1. Qual o nome do país que possui mais cidades registradas?\n"
   ]
  },
  {
   "cell_type": "code",
   "execution_count": 44,
   "metadata": {},
   "outputs": [
    {
     "data": {
      "text/plain": [
       "'India'"
      ]
     },
     "execution_count": 44,
     "metadata": {},
     "output_type": "execute_result"
    }
   ],
   "source": [
    "(df2.loc[:,['country', 'city']].groupby('country').nunique().sort_values('city',ascending=False).reset_index()).iloc[0,0]"
   ]
  },
  {
   "cell_type": "markdown",
   "metadata": {},
   "source": [
    "#### 2. Qual o nome do país que possui mais restaurantes registrados?"
   ]
  },
  {
   "cell_type": "code",
   "execution_count": 90,
   "metadata": {},
   "outputs": [
    {
     "data": {
      "text/plain": [
       "'India'"
      ]
     },
     "execution_count": 90,
     "metadata": {},
     "output_type": "execute_result"
    }
   ],
   "source": [
    "(df2.loc[:,['country', 'restaurant_id']].groupby('country').nunique().sort_values('restaurant_id',ascending=False).reset_index()).iloc[0,0]"
   ]
  },
  {
   "cell_type": "markdown",
   "metadata": {},
   "source": [
    "#### 3. Qual o nome do país que possui mais restaurantes com o nível de preço igual a 4 registrados?"
   ]
  },
  {
   "cell_type": "code",
   "execution_count": 47,
   "metadata": {},
   "outputs": [
    {
     "data": {
      "text/plain": [
       "'India'"
      ]
     },
     "execution_count": 47,
     "metadata": {},
     "output_type": "execute_result"
    }
   ],
   "source": [
    "(df2.loc[df2['aggregate_rating'] >= 4, ['country', 'restaurant_id']].groupby('country').count().sort_values('restaurant_id',ascending=False).reset_index()).iloc[0,0]"
   ]
  },
  {
   "cell_type": "markdown",
   "metadata": {},
   "source": [
    "#### 4. Qual o nome do país que possui a maior quantidade de tipos de culinária distintos?"
   ]
  },
  {
   "cell_type": "code",
   "execution_count": 48,
   "metadata": {},
   "outputs": [
    {
     "data": {
      "text/plain": [
       "'India'"
      ]
     },
     "execution_count": 48,
     "metadata": {},
     "output_type": "execute_result"
    }
   ],
   "source": [
    "(df2.loc[:,['country', 'cuisines']].groupby('country').nunique().sort_values('cuisines',ascending=False).reset_index()).iloc[0,0]"
   ]
  },
  {
   "cell_type": "markdown",
   "metadata": {},
   "source": [
    "#### 5. Qual o nome do país que possui a maior quantidade de avaliações feitas?"
   ]
  },
  {
   "cell_type": "code",
   "execution_count": 49,
   "metadata": {},
   "outputs": [
    {
     "data": {
      "text/plain": [
       "'India'"
      ]
     },
     "execution_count": 49,
     "metadata": {},
     "output_type": "execute_result"
    }
   ],
   "source": [
    "(df2.loc[:,['country', 'votes']].groupby('country').nunique().sort_values('votes',ascending=False).reset_index()).iloc[0,0]"
   ]
  },
  {
   "cell_type": "markdown",
   "metadata": {},
   "source": [
    "#### 6. Qual o nome do país que possui a maior quantidade de restaurantes que fazem entrega?"
   ]
  },
  {
   "cell_type": "code",
   "execution_count": 50,
   "metadata": {},
   "outputs": [
    {
     "data": {
      "text/plain": [
       "'India'"
      ]
     },
     "execution_count": 50,
     "metadata": {},
     "output_type": "execute_result"
    }
   ],
   "source": [
    "(df2.loc[df2['is_delivering_now'] == 1,['country', 'restaurant_id']].groupby('country').nunique().sort_values('restaurant_id',ascending=False).reset_index()).iloc[0,0]"
   ]
  },
  {
   "cell_type": "markdown",
   "metadata": {},
   "source": [
    "#### 7. Qual o nome do país que possui a maior quantidade de restaurantes que aceitam reservas?"
   ]
  },
  {
   "cell_type": "code",
   "execution_count": 51,
   "metadata": {},
   "outputs": [
    {
     "data": {
      "text/plain": [
       "'India'"
      ]
     },
     "execution_count": 51,
     "metadata": {},
     "output_type": "execute_result"
    }
   ],
   "source": [
    "(df2.loc[df2['has_table_booking'] == 1,['country', 'restaurant_id']].groupby('country').nunique().sort_values('restaurant_id',ascending=False).reset_index()).iloc[0,0]"
   ]
  },
  {
   "cell_type": "markdown",
   "metadata": {},
   "source": [
    "#### 8. Qual o nome do país que possui, na média, a maior quantidade de avaliações registrada?"
   ]
  },
  {
   "cell_type": "code",
   "execution_count": 52,
   "metadata": {},
   "outputs": [
    {
     "data": {
      "text/plain": [
       "'Indonesia'"
      ]
     },
     "execution_count": 52,
     "metadata": {},
     "output_type": "execute_result"
    }
   ],
   "source": [
    "(df2.loc[:,['country', 'votes']].groupby('country').mean().sort_values('votes',ascending=False).reset_index()).iloc[0,0]"
   ]
  },
  {
   "cell_type": "markdown",
   "metadata": {},
   "source": [
    "#### 9. Qual o nome do país que possui, na média, a maior nota média registrada?"
   ]
  },
  {
   "cell_type": "code",
   "execution_count": 53,
   "metadata": {},
   "outputs": [
    {
     "data": {
      "text/plain": [
       "'Indonesia'"
      ]
     },
     "execution_count": 53,
     "metadata": {},
     "output_type": "execute_result"
    }
   ],
   "source": [
    "(df2.loc[:,['country', 'aggregate_rating']].groupby('country').mean().sort_values('aggregate_rating',ascending=False).reset_index()).iloc[0,0]"
   ]
  },
  {
   "cell_type": "markdown",
   "metadata": {},
   "source": [
    "#### 10. Qual o nome do país que possui, na média, a menor nota média registrada?"
   ]
  },
  {
   "cell_type": "code",
   "execution_count": 54,
   "metadata": {},
   "outputs": [
    {
     "data": {
      "text/plain": [
       "'Brazil'"
      ]
     },
     "execution_count": 54,
     "metadata": {},
     "output_type": "execute_result"
    }
   ],
   "source": [
    "(df2.loc[:,['country', 'aggregate_rating']].groupby('country').mean().sort_values('aggregate_rating',ascending=True).reset_index()).iloc[0,0]"
   ]
  },
  {
   "cell_type": "markdown",
   "metadata": {},
   "source": [
    "#### 11. Qual a média de preço de um prato para dois por país?"
   ]
  },
  {
   "cell_type": "code",
   "execution_count": 55,
   "metadata": {},
   "outputs": [
    {
     "data": {
      "text/html": [
       "<div>\n",
       "<style scoped>\n",
       "    .dataframe tbody tr th:only-of-type {\n",
       "        vertical-align: middle;\n",
       "    }\n",
       "\n",
       "    .dataframe tbody tr th {\n",
       "        vertical-align: top;\n",
       "    }\n",
       "\n",
       "    .dataframe thead th {\n",
       "        text-align: right;\n",
       "    }\n",
       "</style>\n",
       "<table border=\"1\" class=\"dataframe\">\n",
       "  <thead>\n",
       "    <tr style=\"text-align: right;\">\n",
       "      <th></th>\n",
       "      <th>country</th>\n",
       "      <th>average_cost_for_two</th>\n",
       "    </tr>\n",
       "  </thead>\n",
       "  <tbody>\n",
       "    <tr>\n",
       "      <th>0</th>\n",
       "      <td>Canada</td>\n",
       "      <td>41.86</td>\n",
       "    </tr>\n",
       "    <tr>\n",
       "      <th>1</th>\n",
       "      <td>England</td>\n",
       "      <td>43.05</td>\n",
       "    </tr>\n",
       "    <tr>\n",
       "      <th>2</th>\n",
       "      <td>United States of America</td>\n",
       "      <td>54.93</td>\n",
       "    </tr>\n",
       "    <tr>\n",
       "      <th>3</th>\n",
       "      <td>New Zeland</td>\n",
       "      <td>61.44</td>\n",
       "    </tr>\n",
       "    <tr>\n",
       "      <th>4</th>\n",
       "      <td>Turkey</td>\n",
       "      <td>128.85</td>\n",
       "    </tr>\n",
       "    <tr>\n",
       "      <th>5</th>\n",
       "      <td>Brazil</td>\n",
       "      <td>137.38</td>\n",
       "    </tr>\n",
       "    <tr>\n",
       "      <th>6</th>\n",
       "      <td>Singapure</td>\n",
       "      <td>141.04</td>\n",
       "    </tr>\n",
       "    <tr>\n",
       "      <th>7</th>\n",
       "      <td>United Arab Emirates</td>\n",
       "      <td>158.22</td>\n",
       "    </tr>\n",
       "    <tr>\n",
       "      <th>8</th>\n",
       "      <td>Qatar</td>\n",
       "      <td>176.65</td>\n",
       "    </tr>\n",
       "    <tr>\n",
       "      <th>9</th>\n",
       "      <td>South Africa</td>\n",
       "      <td>335.48</td>\n",
       "    </tr>\n",
       "    <tr>\n",
       "      <th>10</th>\n",
       "      <td>India</td>\n",
       "      <td>703.01</td>\n",
       "    </tr>\n",
       "    <tr>\n",
       "      <th>11</th>\n",
       "      <td>Philippines</td>\n",
       "      <td>1211.09</td>\n",
       "    </tr>\n",
       "    <tr>\n",
       "      <th>12</th>\n",
       "      <td>Sri Lanka</td>\n",
       "      <td>2607.47</td>\n",
       "    </tr>\n",
       "    <tr>\n",
       "      <th>13</th>\n",
       "      <td>Australia</td>\n",
       "      <td>138959.78</td>\n",
       "    </tr>\n",
       "    <tr>\n",
       "      <th>14</th>\n",
       "      <td>Indonesia</td>\n",
       "      <td>312682.93</td>\n",
       "    </tr>\n",
       "  </tbody>\n",
       "</table>\n",
       "</div>"
      ],
      "text/plain": [
       "                     country  average_cost_for_two\n",
       "0                     Canada                 41.86\n",
       "1                    England                 43.05\n",
       "2   United States of America                 54.93\n",
       "3                 New Zeland                 61.44\n",
       "4                     Turkey                128.85\n",
       "5                     Brazil                137.38\n",
       "6                  Singapure                141.04\n",
       "7       United Arab Emirates                158.22\n",
       "8                      Qatar                176.65\n",
       "9               South Africa                335.48\n",
       "10                     India                703.01\n",
       "11               Philippines               1211.09\n",
       "12                 Sri Lanka               2607.47\n",
       "13                 Australia             138959.78\n",
       "14                 Indonesia             312682.93"
      ]
     },
     "execution_count": 55,
     "metadata": {},
     "output_type": "execute_result"
    }
   ],
   "source": [
    "np.round(df2.loc[:,['country', 'average_cost_for_two']].groupby('country').mean().sort_values('average_cost_for_two',ascending=True).reset_index(),2)"
   ]
  },
  {
   "cell_type": "markdown",
   "metadata": {},
   "source": [
    "### CIDADE"
   ]
  },
  {
   "cell_type": "markdown",
   "metadata": {},
   "source": [
    "#### 1. Qual o nome da cidade que possui mais restaurantes registrados?\n"
   ]
  },
  {
   "cell_type": "code",
   "execution_count": 56,
   "metadata": {},
   "outputs": [
    {
     "data": {
      "text/plain": [
       "'Abu Dhabi'"
      ]
     },
     "execution_count": 56,
     "metadata": {},
     "output_type": "execute_result"
    }
   ],
   "source": [
    "(df2.loc[:,['city', 'restaurant_id']].groupby('city').nunique().sort_values('restaurant_id',ascending=False).reset_index()).iloc[0,0]"
   ]
  },
  {
   "cell_type": "markdown",
   "metadata": {},
   "source": [
    "#### 2. Qual o nome da cidade que possui mais restaurantes com nota média acima de 4?"
   ]
  },
  {
   "cell_type": "code",
   "execution_count": 57,
   "metadata": {},
   "outputs": [
    {
     "data": {
      "text/plain": [
       "'Kolkata'"
      ]
     },
     "execution_count": 57,
     "metadata": {},
     "output_type": "execute_result"
    }
   ],
   "source": [
    "(df2.loc[df2['aggregate_rating'] >= 4, ['city', 'restaurant_id']].groupby('city').count().sort_values('restaurant_id',ascending=False).reset_index()).iloc[0,0]"
   ]
  },
  {
   "cell_type": "markdown",
   "metadata": {},
   "source": [
    "#### 3. Qual o nome da cidade que possui mais restaurantes com nota média abaixo de 2.5?"
   ]
  },
  {
   "cell_type": "code",
   "execution_count": 58,
   "metadata": {},
   "outputs": [
    {
     "data": {
      "text/plain": [
       "'Gangtok'"
      ]
     },
     "execution_count": 58,
     "metadata": {},
     "output_type": "execute_result"
    }
   ],
   "source": [
    "(df2.loc[df2['aggregate_rating'] <= 2.5, ['city', 'restaurant_id']].groupby('city').count().sort_values('restaurant_id',ascending=False).reset_index()).iloc[0,0]"
   ]
  },
  {
   "cell_type": "markdown",
   "metadata": {},
   "source": [
    "#### 4. Qual o nome da cidade que possui o maior valor médio de um prato para dois?"
   ]
  },
  {
   "cell_type": "code",
   "execution_count": 59,
   "metadata": {},
   "outputs": [
    {
     "data": {
      "text/plain": [
       "'Adelaide'"
      ]
     },
     "execution_count": 59,
     "metadata": {},
     "output_type": "execute_result"
    }
   ],
   "source": [
    "np.round(df2.loc[:,['city', 'average_cost_for_two']].groupby('city').mean().sort_values('average_cost_for_two',ascending=False).reset_index(),2).iloc[0,0]"
   ]
  },
  {
   "cell_type": "markdown",
   "metadata": {},
   "source": [
    "#### 5. Qual o nome da cidade que possui a maior quantidade de tipos de culinária distintas?"
   ]
  },
  {
   "cell_type": "code",
   "execution_count": 60,
   "metadata": {},
   "outputs": [
    {
     "data": {
      "text/plain": [
       "'Birmingham'"
      ]
     },
     "execution_count": 60,
     "metadata": {},
     "output_type": "execute_result"
    }
   ],
   "source": [
    "(df2.loc[:, ['city', 'cuisines']].groupby('city').nunique().sort_values('cuisines', ascending=False).reset_index()).iloc[0,0]"
   ]
  },
  {
   "cell_type": "markdown",
   "metadata": {},
   "source": [
    "#### 6. Qual o nome da cidade que possui a maior quantidade de restaurantes que fazem reservas?"
   ]
  },
  {
   "cell_type": "code",
   "execution_count": 61,
   "metadata": {},
   "outputs": [
    {
     "data": {
      "text/plain": [
       "'Bangalore'"
      ]
     },
     "execution_count": 61,
     "metadata": {},
     "output_type": "execute_result"
    }
   ],
   "source": [
    "(df2.loc[df2['has_table_booking'] == 1,['city', 'restaurant_id']].groupby('city').nunique().sort_values('restaurant_id',ascending=False).reset_index()).iloc[0,0]"
   ]
  },
  {
   "cell_type": "markdown",
   "metadata": {},
   "source": [
    "#### 7. Qual o nome da cidade que possui a maior quantidade de restaurantes que fazem entregas?"
   ]
  },
  {
   "cell_type": "code",
   "execution_count": 62,
   "metadata": {},
   "outputs": [
    {
     "data": {
      "text/plain": [
       "'Vadodara'"
      ]
     },
     "execution_count": 62,
     "metadata": {},
     "output_type": "execute_result"
    }
   ],
   "source": [
    "(df2.loc[df2['is_delivering_now'] == 1,['city', 'restaurant_id']].groupby('city').nunique().sort_values('restaurant_id',ascending=False).reset_index()).iloc[0,0]"
   ]
  },
  {
   "cell_type": "markdown",
   "metadata": {},
   "source": [
    "#### 8. Qual o nome da cidade que possui a maior quantidade de restaurantes que aceitam pedidos online?"
   ]
  },
  {
   "cell_type": "code",
   "execution_count": 63,
   "metadata": {},
   "outputs": [
    {
     "data": {
      "text/plain": [
       "'Bhopal'"
      ]
     },
     "execution_count": 63,
     "metadata": {},
     "output_type": "execute_result"
    }
   ],
   "source": [
    "(df2.loc[df2['has_online_delivery'] == 1,['city', 'restaurant_id']].groupby('city').nunique().sort_values('restaurant_id',ascending=False).reset_index()).iloc[0,0]"
   ]
  },
  {
   "cell_type": "markdown",
   "metadata": {},
   "source": [
    "### RESTAURANTE"
   ]
  },
  {
   "cell_type": "markdown",
   "metadata": {},
   "source": [
    "#### 1. Qual o nome do restaurante que possui a maior quantidade de avaliações?"
   ]
  },
  {
   "cell_type": "code",
   "execution_count": 64,
   "metadata": {},
   "outputs": [
    {
     "data": {
      "text/plain": [
       "'Bawarchi'"
      ]
     },
     "execution_count": 64,
     "metadata": {},
     "output_type": "execute_result"
    }
   ],
   "source": [
    "(df2.loc[:, ['restaurant_name', 'votes', 'restaurant_id']].sort_values(['votes','restaurant_id'], ascending=[False, True]).reset_index()).iloc[0,1]"
   ]
  },
  {
   "cell_type": "markdown",
   "metadata": {},
   "source": [
    "#### 2. Qual o nome do restaurante com a maior nota média?"
   ]
  },
  {
   "cell_type": "code",
   "execution_count": 65,
   "metadata": {},
   "outputs": [
    {
     "data": {
      "text/plain": [
       "'Indian Grill Room'"
      ]
     },
     "execution_count": 65,
     "metadata": {},
     "output_type": "execute_result"
    }
   ],
   "source": [
    "(df2.loc[:, ['restaurant_name', 'aggregate_rating', 'restaurant_id']].sort_values(['aggregate_rating','restaurant_id'], ascending=[False, True]).reset_index()).iloc[0,1]"
   ]
  },
  {
   "cell_type": "markdown",
   "metadata": {},
   "source": [
    "#### 3. Qual o nome do restaurante que possui o maior valor de uma prato para duas pessoas?\n"
   ]
  },
  {
   "cell_type": "code",
   "execution_count": 66,
   "metadata": {},
   "outputs": [
    {
     "data": {
      "text/plain": [
       "\"d'Arry's Verandah Restaurant\""
      ]
     },
     "execution_count": 66,
     "metadata": {},
     "output_type": "execute_result"
    }
   ],
   "source": [
    "(df2.loc[:, ['restaurant_name', 'average_cost_for_two', 'restaurant_id']].sort_values(['average_cost_for_two','restaurant_id'], ascending=[False, True]).reset_index()).iloc[0,1]"
   ]
  },
  {
   "cell_type": "markdown",
   "metadata": {},
   "source": [
    "#### 4. Qual o nome do restaurante de tipo de culinária brasileira que possui a menor média de avaliação?"
   ]
  },
  {
   "cell_type": "code",
   "execution_count": 67,
   "metadata": {},
   "outputs": [
    {
     "data": {
      "text/plain": [
       "'Texas De Brazil'"
      ]
     },
     "execution_count": 67,
     "metadata": {},
     "output_type": "execute_result"
    }
   ],
   "source": [
    "df2.loc[df2['cuisines'] == 'Brazilian', ['restaurant_name', 'restaurant_id', 'aggregate_rating']].sort_values(['restaurant_id', 'aggregate_rating'], ascending=[True, True]).reset_index().iloc[0,1]"
   ]
  },
  {
   "cell_type": "markdown",
   "metadata": {},
   "source": [
    "#### 5. Qual o nome do restaurante de tipo de culinária brasileira, e que é do Brasil, que possui a maior média de avaliação?"
   ]
  },
  {
   "cell_type": "code",
   "execution_count": 68,
   "metadata": {},
   "outputs": [
    {
     "data": {
      "text/plain": [
       "'Loca Como tu Madre'"
      ]
     },
     "execution_count": 68,
     "metadata": {},
     "output_type": "execute_result"
    }
   ],
   "source": [
    "linhas = (df2['cuisines'] == 'Brazilian') & (df2['country'] == 'Brazil')\n",
    "df2.loc[linhas, ['restaurant_name', 'restaurant_id', 'aggregate_rating']].sort_values(['restaurant_id', 'aggregate_rating'], ascending=[True, False]).reset_index().iloc[0,1]"
   ]
  },
  {
   "cell_type": "markdown",
   "metadata": {},
   "source": [
    "#### 6. Os restaurantes que aceitam pedido online são também, na média, os restaurantes que mais possuem avaliações registradas?"
   ]
  },
  {
   "cell_type": "code",
   "execution_count": 69,
   "metadata": {},
   "outputs": [
    {
     "data": {
      "text/html": [
       "<div>\n",
       "<style scoped>\n",
       "    .dataframe tbody tr th:only-of-type {\n",
       "        vertical-align: middle;\n",
       "    }\n",
       "\n",
       "    .dataframe tbody tr th {\n",
       "        vertical-align: top;\n",
       "    }\n",
       "\n",
       "    .dataframe thead th {\n",
       "        text-align: right;\n",
       "    }\n",
       "</style>\n",
       "<table border=\"1\" class=\"dataframe\">\n",
       "  <thead>\n",
       "    <tr style=\"text-align: right;\">\n",
       "      <th></th>\n",
       "      <th>has_online_delivery</th>\n",
       "      <th>votes</th>\n",
       "    </tr>\n",
       "  </thead>\n",
       "  <tbody>\n",
       "    <tr>\n",
       "      <th>0</th>\n",
       "      <td>1</td>\n",
       "      <td>843.027516</td>\n",
       "    </tr>\n",
       "    <tr>\n",
       "      <th>1</th>\n",
       "      <td>0</td>\n",
       "      <td>494.336901</td>\n",
       "    </tr>\n",
       "  </tbody>\n",
       "</table>\n",
       "</div>"
      ],
      "text/plain": [
       "   has_online_delivery       votes\n",
       "0                    1  843.027516\n",
       "1                    0  494.336901"
      ]
     },
     "execution_count": 69,
     "metadata": {},
     "output_type": "execute_result"
    }
   ],
   "source": [
    "df2.loc[:, ['votes', 'has_online_delivery']].groupby('has_online_delivery').mean().sort_values('votes', ascending=False).reset_index()"
   ]
  },
  {
   "cell_type": "markdown",
   "metadata": {},
   "source": [
    "#### 7. Os restaurantes que fazem reservas são também, na média, os restaurantes que possuem o maior valor médio de um prato para duas pessoas?"
   ]
  },
  {
   "cell_type": "code",
   "execution_count": 70,
   "metadata": {},
   "outputs": [
    {
     "data": {
      "text/html": [
       "<div>\n",
       "<style scoped>\n",
       "    .dataframe tbody tr th:only-of-type {\n",
       "        vertical-align: middle;\n",
       "    }\n",
       "\n",
       "    .dataframe tbody tr th {\n",
       "        vertical-align: top;\n",
       "    }\n",
       "\n",
       "    .dataframe thead th {\n",
       "        text-align: right;\n",
       "    }\n",
       "</style>\n",
       "<table border=\"1\" class=\"dataframe\">\n",
       "  <thead>\n",
       "    <tr style=\"text-align: right;\">\n",
       "      <th></th>\n",
       "      <th>has_table_booking</th>\n",
       "      <th>average_cost_for_two</th>\n",
       "    </tr>\n",
       "  </thead>\n",
       "  <tbody>\n",
       "    <tr>\n",
       "      <th>0</th>\n",
       "      <td>1</td>\n",
       "      <td>62931.512821</td>\n",
       "    </tr>\n",
       "    <tr>\n",
       "      <th>1</th>\n",
       "      <td>0</td>\n",
       "      <td>3460.612436</td>\n",
       "    </tr>\n",
       "  </tbody>\n",
       "</table>\n",
       "</div>"
      ],
      "text/plain": [
       "   has_table_booking  average_cost_for_two\n",
       "0                  1          62931.512821\n",
       "1                  0           3460.612436"
      ]
     },
     "execution_count": 70,
     "metadata": {},
     "output_type": "execute_result"
    }
   ],
   "source": [
    "df2.loc[:, ['has_table_booking', 'average_cost_for_two']].groupby('has_table_booking').mean().sort_values('average_cost_for_two', ascending=False).reset_index()"
   ]
  },
  {
   "cell_type": "markdown",
   "metadata": {},
   "source": [
    "#### 8. Os restaurantes do tipo de culinária japonesa dos Estados Unidos da América possuem um valor médio de prato para duas pessoas maior que as churrascarias americanas (BBQ)?"
   ]
  },
  {
   "cell_type": "code",
   "execution_count": 71,
   "metadata": {},
   "outputs": [
    {
     "data": {
      "text/html": [
       "<div>\n",
       "<style scoped>\n",
       "    .dataframe tbody tr th:only-of-type {\n",
       "        vertical-align: middle;\n",
       "    }\n",
       "\n",
       "    .dataframe tbody tr th {\n",
       "        vertical-align: top;\n",
       "    }\n",
       "\n",
       "    .dataframe thead th {\n",
       "        text-align: right;\n",
       "    }\n",
       "</style>\n",
       "<table border=\"1\" class=\"dataframe\">\n",
       "  <thead>\n",
       "    <tr style=\"text-align: right;\">\n",
       "      <th></th>\n",
       "      <th>cuisines</th>\n",
       "      <th>average_cost_for_two</th>\n",
       "    </tr>\n",
       "  </thead>\n",
       "  <tbody>\n",
       "    <tr>\n",
       "      <th>0</th>\n",
       "      <td>Japanese</td>\n",
       "      <td>56.406250</td>\n",
       "    </tr>\n",
       "    <tr>\n",
       "      <th>1</th>\n",
       "      <td>BBQ</td>\n",
       "      <td>39.642857</td>\n",
       "    </tr>\n",
       "  </tbody>\n",
       "</table>\n",
       "</div>"
      ],
      "text/plain": [
       "   cuisines  average_cost_for_two\n",
       "0  Japanese             56.406250\n",
       "1       BBQ             39.642857"
      ]
     },
     "execution_count": 71,
     "metadata": {},
     "output_type": "execute_result"
    }
   ],
   "source": [
    "lines = (df2['country'] == 'United States of America') & ((df2['cuisines'] == 'BBQ') | (df2['cuisines'] == 'Japanese'))\n",
    "df2.loc[lines, ['average_cost_for_two', 'cuisines']].groupby('cuisines').mean().sort_values('average_cost_for_two', ascending=False).reset_index()"
   ]
  },
  {
   "cell_type": "markdown",
   "metadata": {},
   "source": [
    "### CULINÁRIA"
   ]
  },
  {
   "cell_type": "markdown",
   "metadata": {},
   "source": [
    "#### 1. Dos restaurantes que possuem o tipo de culinária italiana, qual o nome do restaurante com a maior média de avaliação?"
   ]
  },
  {
   "cell_type": "code",
   "execution_count": 72,
   "metadata": {},
   "outputs": [
    {
     "data": {
      "text/plain": [
       "'Darshan'"
      ]
     },
     "execution_count": 72,
     "metadata": {},
     "output_type": "execute_result"
    }
   ],
   "source": [
    "(df2.loc[df2['cuisines'] == 'Italian', ['restaurant_id', 'restaurant_name', 'aggregate_rating']].sort_values(['aggregate_rating', 'restaurant_id'], ascending=[False,True]).reset_index()).iloc[0,2]"
   ]
  },
  {
   "cell_type": "markdown",
   "metadata": {},
   "source": [
    "#### 2. Dos restaurantes que possuem o tipo de culinária italiana, qual o nome do restaurante com a menor média de avaliação?"
   ]
  },
  {
   "cell_type": "code",
   "execution_count": 73,
   "metadata": {},
   "outputs": [
    {
     "data": {
      "text/plain": [
       "'Avenida Paulista'"
      ]
     },
     "execution_count": 73,
     "metadata": {},
     "output_type": "execute_result"
    }
   ],
   "source": [
    "(df2.loc[df2['cuisines'] == 'Italian', ['restaurant_id', 'restaurant_name', 'aggregate_rating']].sort_values(['aggregate_rating', 'restaurant_id'], ascending=[True,True]).reset_index()).iloc[0,2]"
   ]
  },
  {
   "cell_type": "markdown",
   "metadata": {},
   "source": [
    "#### 3. Dos restaurantes que possuem o tipo de culinária americana, qual o nome do restaurante com a maior média de avaliação?"
   ]
  },
  {
   "cell_type": "code",
   "execution_count": 74,
   "metadata": {},
   "outputs": [
    {
     "data": {
      "text/plain": [
       "'Burger & Lobster'"
      ]
     },
     "execution_count": 74,
     "metadata": {},
     "output_type": "execute_result"
    }
   ],
   "source": [
    "(df2.loc[df2['cuisines'] == 'American', ['restaurant_id', 'restaurant_name', 'aggregate_rating']].sort_values(['aggregate_rating', 'restaurant_id'], ascending=[False,True]).reset_index()).iloc[0,2]\n"
   ]
  },
  {
   "cell_type": "markdown",
   "metadata": {},
   "source": [
    "#### 4. Dos restaurantes que possuem o tipo de culinária americana, qual o nome do restaurante com a menor média de avaliação?"
   ]
  },
  {
   "cell_type": "code",
   "execution_count": 75,
   "metadata": {},
   "outputs": [
    {
     "data": {
      "text/plain": [
       "'Alston Bar & Beef'"
      ]
     },
     "execution_count": 75,
     "metadata": {},
     "output_type": "execute_result"
    }
   ],
   "source": [
    "(df2.loc[df2['cuisines'] == 'American', ['restaurant_id', 'restaurant_name', 'aggregate_rating']].sort_values(['aggregate_rating', 'restaurant_id'], ascending=[True,True]).reset_index()).iloc[0,2]\n"
   ]
  },
  {
   "cell_type": "markdown",
   "metadata": {},
   "source": [
    "#### 5. Dos restaurantes que possuem o tipo de culinária árabe, qual o nome do restaurante com a maior média de avaliação?"
   ]
  },
  {
   "cell_type": "code",
   "execution_count": 76,
   "metadata": {},
   "outputs": [
    {
     "data": {
      "text/plain": [
       "'Mandi@36'"
      ]
     },
     "execution_count": 76,
     "metadata": {},
     "output_type": "execute_result"
    }
   ],
   "source": [
    "(df2.loc[df2['cuisines'] == 'Arabian', ['restaurant_id', 'restaurant_name', 'aggregate_rating']].sort_values(['aggregate_rating', 'restaurant_id'], ascending=[False,True]).reset_index()).iloc[0,2]\n"
   ]
  },
  {
   "cell_type": "markdown",
   "metadata": {},
   "source": [
    "#### 6. Dos restaurantes que possuem o tipo de culinária árabe, qual o nome do restaurante com a menor média de avaliação?"
   ]
  },
  {
   "cell_type": "code",
   "execution_count": 77,
   "metadata": {},
   "outputs": [
    {
     "data": {
      "text/plain": [
       "'Raful'"
      ]
     },
     "execution_count": 77,
     "metadata": {},
     "output_type": "execute_result"
    }
   ],
   "source": [
    "(df2.loc[df2['cuisines'] == 'Arabian', ['restaurant_id', 'restaurant_name', 'aggregate_rating']].sort_values(['aggregate_rating', 'restaurant_id'], ascending=[True,True]).reset_index()).iloc[0,2]\n"
   ]
  },
  {
   "cell_type": "markdown",
   "metadata": {},
   "source": [
    "#### 7. Dos restaurantes que possuem o tipo de culinária japonesa, qual o nome do restaurante com a maior média de avaliação?"
   ]
  },
  {
   "cell_type": "code",
   "execution_count": 78,
   "metadata": {},
   "outputs": [
    {
     "data": {
      "text/plain": [
       "'Sushi Samba'"
      ]
     },
     "execution_count": 78,
     "metadata": {},
     "output_type": "execute_result"
    }
   ],
   "source": [
    "(df2.loc[df2['cuisines'] == 'Japanese', ['restaurant_id', 'restaurant_name', 'aggregate_rating']].sort_values(['aggregate_rating', 'restaurant_id'], ascending=[False,True]).reset_index()).iloc[0,2]\n"
   ]
  },
  {
   "cell_type": "markdown",
   "metadata": {},
   "source": [
    "#### 8. Dos restaurantes que possuem o tipo de culinária japonesa, qual o nome do restaurante com a menor média de avaliação?"
   ]
  },
  {
   "cell_type": "code",
   "execution_count": 79,
   "metadata": {},
   "outputs": [
    {
     "data": {
      "text/plain": [
       "'Banzai Sushi'"
      ]
     },
     "execution_count": 79,
     "metadata": {},
     "output_type": "execute_result"
    }
   ],
   "source": [
    "(df2.loc[df2['cuisines'] == 'Japanese', ['restaurant_id', 'restaurant_name', 'aggregate_rating']].sort_values(['aggregate_rating', 'restaurant_id'], ascending=[True,True]).reset_index()).iloc[0,2]\n"
   ]
  },
  {
   "cell_type": "markdown",
   "metadata": {},
   "source": [
    "#### 9. Dos restaurantes que possuem o tipo de culinária caseira, qual o nome do restaurante com a maior média de avaliação?"
   ]
  },
  {
   "cell_type": "code",
   "execution_count": 80,
   "metadata": {},
   "outputs": [
    {
     "data": {
      "text/plain": [
       "'Kanaat Lokantası'"
      ]
     },
     "execution_count": 80,
     "metadata": {},
     "output_type": "execute_result"
    }
   ],
   "source": [
    "(df2.loc[df2['cuisines'] == 'Home-made', ['restaurant_id', 'restaurant_name', 'aggregate_rating']].sort_values(['aggregate_rating', 'restaurant_id'], ascending=[False,True]).reset_index()).iloc[0,2]\n"
   ]
  },
  {
   "cell_type": "markdown",
   "metadata": {},
   "source": [
    "#### 10. Dos restaurantes que possuem o tipo de culinária caseira, qual o nome do restaurante com a menor média de avaliação?"
   ]
  },
  {
   "cell_type": "code",
   "execution_count": 81,
   "metadata": {},
   "outputs": [
    {
     "data": {
      "text/plain": [
       "'GurMekan Restaurant'"
      ]
     },
     "execution_count": 81,
     "metadata": {},
     "output_type": "execute_result"
    }
   ],
   "source": [
    "(df2.loc[df2['cuisines'] == 'Home-made', ['restaurant_id', 'restaurant_name', 'aggregate_rating']].sort_values(['aggregate_rating', 'restaurant_id'], ascending=[True,True]).reset_index()).iloc[0,2]\n"
   ]
  },
  {
   "cell_type": "markdown",
   "metadata": {},
   "source": [
    "#### 11. Qual o tipo de culinária que possui o maior valor médio de um prato para duas pessoas?"
   ]
  },
  {
   "cell_type": "code",
   "execution_count": 82,
   "metadata": {},
   "outputs": [
    {
     "data": {
      "text/html": [
       "<div>\n",
       "<style scoped>\n",
       "    .dataframe tbody tr th:only-of-type {\n",
       "        vertical-align: middle;\n",
       "    }\n",
       "\n",
       "    .dataframe tbody tr th {\n",
       "        vertical-align: top;\n",
       "    }\n",
       "\n",
       "    .dataframe thead th {\n",
       "        text-align: right;\n",
       "    }\n",
       "</style>\n",
       "<table border=\"1\" class=\"dataframe\">\n",
       "  <thead>\n",
       "    <tr style=\"text-align: right;\">\n",
       "      <th></th>\n",
       "      <th>cuisines</th>\n",
       "      <th>average_cost_for_two</th>\n",
       "    </tr>\n",
       "  </thead>\n",
       "  <tbody>\n",
       "    <tr>\n",
       "      <th>0</th>\n",
       "      <td>Modern Australian</td>\n",
       "      <td>25000017</td>\n",
       "    </tr>\n",
       "  </tbody>\n",
       "</table>\n",
       "</div>"
      ],
      "text/plain": [
       "            cuisines  average_cost_for_two\n",
       "0  Modern Australian              25000017"
      ]
     },
     "execution_count": 82,
     "metadata": {},
     "output_type": "execute_result"
    }
   ],
   "source": [
    "(df2.loc[:,['cuisines', 'average_cost_for_two']].groupby('cuisines').max().sort_values('average_cost_for_two', ascending=False).reset_index()).head(1)"
   ]
  },
  {
   "cell_type": "markdown",
   "metadata": {},
   "source": [
    "#### 12. Qual o tipo de culinária que possui a maior nota média?"
   ]
  },
  {
   "cell_type": "code",
   "execution_count": 83,
   "metadata": {},
   "outputs": [
    {
     "data": {
      "text/html": [
       "<div>\n",
       "<style scoped>\n",
       "    .dataframe tbody tr th:only-of-type {\n",
       "        vertical-align: middle;\n",
       "    }\n",
       "\n",
       "    .dataframe tbody tr th {\n",
       "        vertical-align: top;\n",
       "    }\n",
       "\n",
       "    .dataframe thead th {\n",
       "        text-align: right;\n",
       "    }\n",
       "</style>\n",
       "<table border=\"1\" class=\"dataframe\">\n",
       "  <thead>\n",
       "    <tr style=\"text-align: right;\">\n",
       "      <th></th>\n",
       "      <th>cuisines</th>\n",
       "      <th>aggregate_rating</th>\n",
       "    </tr>\n",
       "  </thead>\n",
       "  <tbody>\n",
       "    <tr>\n",
       "      <th>0</th>\n",
       "      <td>Indian</td>\n",
       "      <td>4.9</td>\n",
       "    </tr>\n",
       "  </tbody>\n",
       "</table>\n",
       "</div>"
      ],
      "text/plain": [
       "  cuisines  aggregate_rating\n",
       "0   Indian               4.9"
      ]
     },
     "execution_count": 83,
     "metadata": {},
     "output_type": "execute_result"
    }
   ],
   "source": [
    "(df2.loc[:,['cuisines', 'aggregate_rating']].groupby('cuisines').max().sort_values('aggregate_rating', ascending=False).reset_index()).head(1)"
   ]
  },
  {
   "cell_type": "markdown",
   "metadata": {},
   "source": [
    "#### 13. Qual o tipo de culinária que possui mais restaurantes que aceitam pedidos online e fazem entregas?"
   ]
  },
  {
   "cell_type": "code",
   "execution_count": 84,
   "metadata": {},
   "outputs": [
    {
     "data": {
      "text/html": [
       "<div>\n",
       "<style scoped>\n",
       "    .dataframe tbody tr th:only-of-type {\n",
       "        vertical-align: middle;\n",
       "    }\n",
       "\n",
       "    .dataframe tbody tr th {\n",
       "        vertical-align: top;\n",
       "    }\n",
       "\n",
       "    .dataframe thead th {\n",
       "        text-align: right;\n",
       "    }\n",
       "</style>\n",
       "<table border=\"1\" class=\"dataframe\">\n",
       "  <thead>\n",
       "    <tr style=\"text-align: right;\">\n",
       "      <th></th>\n",
       "      <th>cuisines</th>\n",
       "      <th>restaurant_id</th>\n",
       "    </tr>\n",
       "  </thead>\n",
       "  <tbody>\n",
       "    <tr>\n",
       "      <th>0</th>\n",
       "      <td>North Indian</td>\n",
       "      <td>343</td>\n",
       "    </tr>\n",
       "  </tbody>\n",
       "</table>\n",
       "</div>"
      ],
      "text/plain": [
       "       cuisines  restaurant_id\n",
       "0  North Indian            343"
      ]
     },
     "execution_count": 84,
     "metadata": {},
     "output_type": "execute_result"
    }
   ],
   "source": [
    "lines = (df2['has_online_delivery'] == 1) & (df2['is_delivering_now'] == 1)\n",
    "\n",
    "(df2.loc[lines, ['restaurant_id', 'cuisines']].groupby('cuisines').count().sort_values('restaurant_id', ascending=False).reset_index()).head(1)"
   ]
  },
  {
   "cell_type": "code",
   "execution_count": null,
   "metadata": {},
   "outputs": [],
   "source": []
  }
 ],
 "metadata": {
  "kernelspec": {
   "display_name": "myenv",
   "language": "python",
   "name": "python3"
  },
  "language_info": {
   "codemirror_mode": {
    "name": "ipython",
    "version": 3
   },
   "file_extension": ".py",
   "mimetype": "text/x-python",
   "name": "python",
   "nbconvert_exporter": "python",
   "pygments_lexer": "ipython3",
   "version": "3.9.6"
  }
 },
 "nbformat": 4,
 "nbformat_minor": 2
}
